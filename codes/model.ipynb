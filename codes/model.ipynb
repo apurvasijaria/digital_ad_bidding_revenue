{
 "cells": [
  {
   "cell_type": "code",
   "execution_count": 26,
   "metadata": {},
   "outputs": [],
   "source": [
    "import os\n",
    "import sys\n",
    "import numpy as np\n",
    "import pandas as pd\n",
    "import matplotlib.pyplot as plt\n",
    "import seaborn as sb\n",
    "\n",
    "## reading clean data\n",
    "data = pd.read_csv(\"../datasets/DataScientist_L2/Ascendeum_Dataset_clean.csv\")"
   ]
  },
  {
   "cell_type": "code",
   "execution_count": 27,
   "metadata": {},
   "outputs": [],
   "source": [
    "target = data['total_revenue']\n",
    "data.drop(\"total_revenue\",axis=1,inplace = True)"
   ]
  },
  {
   "cell_type": "code",
   "execution_count": 4,
   "metadata": {},
   "outputs": [
    {
     "data": {
      "text/plain": [
       "LinearRegression()"
      ]
     },
     "execution_count": 4,
     "metadata": {},
     "output_type": "execute_result"
    }
   ],
   "source": [
    "## Starting with a baseline model : Linear Regression\n",
    "\n",
    "from sklearn.linear_model import LinearRegression\n",
    "from sklearn.model_selection import cross_val_score\n",
    "\n",
    "lin_reg = LinearRegression()\n",
    "lin_reg.fit(data, target)"
   ]
  },
  {
   "cell_type": "code",
   "execution_count": 5,
   "metadata": {},
   "outputs": [
    {
     "name": "stdout",
     "output_type": "stream",
     "text": [
      "0.481865535331422\n",
      "0.12270301215902224\n",
      "Scores: [0.46707907 0.49255637 0.57361047 0.47267381 0.46414343 0.42135361\n",
      " 0.44207605 0.47627007 0.50766321 0.49400502]\n",
      "Mean: 0.48114311085807415\n",
      "Standard deviation: 0.03902883715567952\n"
     ]
    }
   ],
   "source": [
    "## Calculating accuracy using RMSE\n",
    "from sklearn.metrics import mean_squared_error\n",
    "\n",
    "preds = lin_reg.predict(data)\n",
    "lin_mse = mean_squared_error(preds,target)\n",
    "lin_rmse = np.sqrt (lin_mse)\n",
    "print(lin_rmse) \n",
    "\n",
    "from sklearn.metrics import r2_score\n",
    "print(r2_score(preds,target))\n",
    "\n",
    "## Applying cross validation\n",
    "cv_scores = cross_val_score(lin_reg,data,target, scoring =\"neg_mean_squared_error\",cv=10)\n",
    "cv_rmse_scores = np.sqrt(-cv_scores)\n",
    "print(\"Scores:\", cv_rmse_scores)\n",
    "print(\"Mean:\", cv_rmse_scores.mean())\n",
    "print(\"Standard deviation:\", cv_rmse_scores.std())"
   ]
  },
  {
   "cell_type": "code",
   "execution_count": 6,
   "metadata": {},
   "outputs": [
    {
     "name": "stdout",
     "output_type": "stream",
     "text": [
      "0.02685476027784757\n",
      "0.998546432170485\n",
      "Scores: [0.51062806 0.40838078 0.51177291 0.42734402 0.36832841 0.35488844\n",
      " 0.38727044 0.37090873 0.41220091 0.43702213]\n",
      "Mean: 0.4188744826999778\n",
      "Standard deviation: 0.05249115251297894\n"
     ]
    }
   ],
   "source": [
    "## Applying DecisionTreeRegressor\n",
    "\n",
    "from sklearn.tree import DecisionTreeRegressor\n",
    "\n",
    "tree_reg = DecisionTreeRegressor()\n",
    "tree_reg.fit(data,target)\n",
    "\n",
    "preds = tree_reg.predict(data)\n",
    "tree_mse = mean_squared_error(preds,target)\n",
    "tree_rmse = np.sqrt (tree_mse)\n",
    "print(tree_rmse) \n",
    "print(r2_score(preds,target))\n",
    "\n",
    "## Applying cross validation\n",
    "cv_scores = cross_val_score(tree_reg,data,target, scoring =\"neg_mean_squared_error\",cv=10)\n",
    "cv_rmse_scores = np.sqrt(-cv_scores)\n",
    "print(\"Scores:\", cv_rmse_scores)\n",
    "print(\"Mean:\", cv_rmse_scores.mean())\n",
    "print(\"Standard deviation:\", cv_rmse_scores.std())"
   ]
  },
  {
   "cell_type": "markdown",
   "metadata": {},
   "source": [
    "**Decision tree regressor perform better than linear model when tested on the same data, but seems to overfit.**\n",
    "\n",
    "-  In order to solve the problem of overfitting we can try below things:\n",
    "    - add more data\n",
    "    - simplyfy our model\n",
    "    - cross validating the score "
   ]
  },
  {
   "cell_type": "code",
   "execution_count": 7,
   "metadata": {},
   "outputs": [
    {
     "data": {
      "text/plain": [
       "['../models/tree_regressor1.pkl']"
      ]
     },
     "execution_count": 7,
     "metadata": {},
     "output_type": "execute_result"
    }
   ],
   "source": [
    "\n",
    "## Saving these models\n",
    "import joblib\n",
    "\n",
    "joblib.dump(lin_reg,'../models/linear_regressor1.pkl')\n",
    "joblib.dump(tree_reg,'../models/tree_regressor1.pkl')"
   ]
  },
  {
   "cell_type": "code",
   "execution_count": 9,
   "metadata": {},
   "outputs": [
    {
     "name": "stdout",
     "output_type": "stream",
     "text": [
      "[0.05627687 0.09233951 0.00435396 0.00255766 0.0206326  0.01588533\n",
      " 0.07548914 0.03974289 0.01450404 0.678218  ]\n"
     ]
    }
   ],
   "source": [
    "## Finding important variables in all 3 models\n",
    "#print(lin_reg.feature_importances_)\n",
    "print(tree_reg.feature_importances_)"
   ]
  },
  {
   "cell_type": "code",
   "execution_count": 11,
   "metadata": {},
   "outputs": [
    {
     "data": {
      "text/plain": [
       "[(0.6782180049791534, 'total_impressions'),\n",
       " (0.09233951000091468, 'site_id'),\n",
       " (0.07548913940259208, 'line_item_type_id'),\n",
       " (0.05627686945504319, 'date'),\n",
       " (0.03974288546650816, 'os_id'),\n",
       " (0.02063260050146138, 'device_category_id'),\n",
       " (0.015885327861682595, 'advertiser_id'),\n",
       " (0.01450404428790681, 'monetization_channel_id'),\n",
       " (0.004353961662348816, 'ad_type_id'),\n",
       " (0.0025576563823887792, 'geo_id')]"
      ]
     },
     "execution_count": 11,
     "metadata": {},
     "output_type": "execute_result"
    }
   ],
   "source": [
    "sorted(zip(tree_reg.feature_importances_,data.columns), reverse=True)"
   ]
  },
  {
   "cell_type": "code",
   "execution_count": 28,
   "metadata": {},
   "outputs": [],
   "source": [
    "## removing least important features and fitting decisiontree regression\n",
    "cols = ['site_id',  'device_category_id',\n",
    "       'advertiser_id', 'line_item_type_id', 'os_id',\n",
    "       'monetization_channel_id', 'total_impressions']\n",
    "\n",
    "data = data[cols]"
   ]
  },
  {
   "cell_type": "code",
   "execution_count": 14,
   "metadata": {},
   "outputs": [
    {
     "name": "stdout",
     "output_type": "stream",
     "text": [
      "0.09901892702341344\n",
      "0.9798695223735426\n",
      "Scores: [0.42669468 0.42767351 0.47023543 0.41089602 0.40287368 0.41477817\n",
      " 0.39705372 0.37817214 0.4103464  0.39677988]\n",
      "Mean: 0.4135503639070908\n",
      "Standard deviation: 0.023501595624020828\n"
     ]
    }
   ],
   "source": [
    "## Decision tree regressor on new cols\n",
    "\n",
    "tree_reg = DecisionTreeRegressor()\n",
    "tree_reg.fit(data,target)\n",
    "\n",
    "preds = tree_reg.predict(data)\n",
    "tree_mse = mean_squared_error(preds,target)\n",
    "tree_rmse = np.sqrt (tree_mse)\n",
    "print(tree_rmse) \n",
    "print(r2_score(preds,target))\n",
    "\n",
    "## Applying cross validation\n",
    "cv_scores = cross_val_score(tree_reg,data,target, scoring =\"neg_mean_squared_error\",cv=10)\n",
    "cv_rmse_scores = np.sqrt(-cv_scores)\n",
    "print(\"Scores:\", cv_rmse_scores)\n",
    "print(\"Mean:\", cv_rmse_scores.mean())\n",
    "print(\"Standard deviation:\", cv_rmse_scores.std())"
   ]
  },
  {
   "cell_type": "code",
   "execution_count": 15,
   "metadata": {},
   "outputs": [
    {
     "data": {
      "text/plain": [
       "['../models/tree_regressor2.pkl']"
      ]
     },
     "execution_count": 15,
     "metadata": {},
     "output_type": "execute_result"
    }
   ],
   "source": [
    "## Saving the model\n",
    "joblib.dump(tree_reg,'../models/tree_regressor2.pkl')"
   ]
  },
  {
   "cell_type": "code",
   "execution_count": 16,
   "metadata": {},
   "outputs": [
    {
     "data": {
      "text/plain": [
       "[(0.7306509518119948, 'total_impressions'),\n",
       " (0.0921375629233712, 'site_id'),\n",
       " (0.07922463001955589, 'line_item_type_id'),\n",
       " (0.049054478777976036, 'os_id'),\n",
       " (0.020900260138261382, 'advertiser_id'),\n",
       " (0.016507001262420738, 'monetization_channel_id'),\n",
       " (0.011525115066419995, 'device_category_id')]"
      ]
     },
     "execution_count": 16,
     "metadata": {},
     "output_type": "execute_result"
    }
   ],
   "source": [
    "sorted(zip(tree_reg.feature_importances_,data.columns), reverse=True)"
   ]
  },
  {
   "cell_type": "code",
   "execution_count": 21,
   "metadata": {},
   "outputs": [
    {
     "data": {
      "image/png": "[encoded data removed]",
      "text/plain": [
       "<Figure size 432x288 with 1 Axes>"
      ]
     },
     "metadata": {
      "needs_background": "light"
     },
     "output_type": "display_data"
    }
   ],
   "source": [
    "plt.bar([x for x in range(len(tree_reg.feature_importances_))], tree_reg.feature_importances_)\n",
    "plt.show()"
   ]
  },
  {
   "cell_type": "code",
   "execution_count": 29,
   "metadata": {},
   "outputs": [],
   "source": [
    "## Removing deivce category id \n",
    "data.drop(\"device_category_id\",axis=1,inplace=True)"
   ]
  },
  {
   "cell_type": "code",
   "execution_count": 30,
   "metadata": {},
   "outputs": [
    {
     "name": "stdout",
     "output_type": "stream",
     "text": [
      "0.09910601942069076\n",
      "0.979833380707929\n",
      "Scores: [0.42860198 0.41442548 0.47333423 0.40396108 0.40452219 0.41228839\n",
      " 0.3978342  0.37811924 0.41085463 0.40200907]\n",
      "Mean: 0.41259504944826286\n",
      "Standard deviation: 0.02368583330848914\n"
     ]
    }
   ],
   "source": [
    "## Decision tree regressor on new cols\n",
    "\n",
    "tree_reg = DecisionTreeRegressor()\n",
    "tree_reg.fit(data,target)\n",
    "\n",
    "preds = tree_reg.predict(data)\n",
    "tree_mse = mean_squared_error(preds,target)\n",
    "tree_rmse = np.sqrt (tree_mse)\n",
    "print(tree_rmse) \n",
    "print(r2_score(preds,target))\n",
    "\n",
    "## Applying cross validation\n",
    "cv_scores = cross_val_score(tree_reg,data,target, scoring =\"neg_mean_squared_error\",cv=10)\n",
    "cv_rmse_scores = np.sqrt(-cv_scores)\n",
    "print(\"Scores:\", cv_rmse_scores)\n",
    "print(\"Mean:\", cv_rmse_scores.mean())\n",
    "print(\"Standard deviation:\", cv_rmse_scores.std())"
   ]
  },
  {
   "cell_type": "code",
   "execution_count": 31,
   "metadata": {},
   "outputs": [
    {
     "data": {
      "text/plain": [
       "['../models/tree_regressor3.pkl']"
      ]
     },
     "execution_count": 31,
     "metadata": {},
     "output_type": "execute_result"
    }
   ],
   "source": [
    "## Saving the model\n",
    "joblib.dump(tree_reg,'../models/tree_regressor3.pkl')"
   ]
  },
  {
   "cell_type": "code",
   "execution_count": 32,
   "metadata": {},
   "outputs": [
    {
     "data": {
      "text/plain": [
       "[(0.7274914179000503, 'total_impressions'),\n",
       " (0.09855446505715237, 'site_id'),\n",
       " (0.078967377275775, 'line_item_type_id'),\n",
       " (0.05972897238207672, 'os_id'),\n",
       " (0.030898138214316924, 'advertiser_id'),\n",
       " (0.004359629170628722, 'monetization_channel_id')]"
      ]
     },
     "execution_count": 32,
     "metadata": {},
     "output_type": "execute_result"
    }
   ],
   "source": [
    "sorted(zip(tree_reg.feature_importances_,data.columns), reverse=True)"
   ]
  },
  {
   "cell_type": "code",
   "execution_count": 33,
   "metadata": {},
   "outputs": [],
   "source": [
    "## Removing monetization_channel_id\n",
    "data.drop(\"monetization_channel_id\",axis=1,inplace=True)"
   ]
  },
  {
   "cell_type": "code",
   "execution_count": 34,
   "metadata": {},
   "outputs": [
    {
     "name": "stdout",
     "output_type": "stream",
     "text": [
      "0.09910601942069076\n",
      "0.979833380707929\n",
      "Scores: [0.42844774 0.429962   0.4579324  0.40895175 0.40177221 0.41071819\n",
      " 0.3961267  0.37424902 0.4103704  0.4004105 ]\n",
      "Mean: 0.4118940934955567\n",
      "Standard deviation: 0.021523120910020815\n"
     ]
    },
    {
     "data": {
      "text/plain": [
       "[(0.7282687414329234, 'total_impressions'),\n",
       " (0.07982931402042931, 'site_id'),\n",
       " (0.07930681967401697, 'line_item_type_id'),\n",
       " (0.05952229193713733, 'os_id'),\n",
       " (0.053072832935492906, 'advertiser_id')]"
      ]
     },
     "execution_count": 34,
     "metadata": {},
     "output_type": "execute_result"
    }
   ],
   "source": [
    "## Decision tree regressor on new cols\n",
    "\n",
    "tree_reg = DecisionTreeRegressor()\n",
    "tree_reg.fit(data,target)\n",
    "\n",
    "preds = tree_reg.predict(data)\n",
    "tree_mse = mean_squared_error(preds,target)\n",
    "tree_rmse = np.sqrt (tree_mse)\n",
    "print(tree_rmse) \n",
    "print(r2_score(preds,target))\n",
    "\n",
    "## Applying cross validation\n",
    "cv_scores = cross_val_score(tree_reg,data,target, scoring =\"neg_mean_squared_error\",cv=10)\n",
    "cv_rmse_scores = np.sqrt(-cv_scores)\n",
    "print(\"Scores:\", cv_rmse_scores)\n",
    "print(\"Mean:\", cv_rmse_scores.mean())\n",
    "print(\"Standard deviation:\", cv_rmse_scores.std())\n",
    "\n",
    "## Saving the model\n",
    "joblib.dump(tree_reg,'../models/tree_regressor4.pkl')\n",
    "\n",
    "sorted(zip(tree_reg.feature_importances_,data.columns), reverse=True)"
   ]
  },
  {
   "cell_type": "code",
   "execution_count": 35,
   "metadata": {},
   "outputs": [
    {
     "data": {
      "image/png": "[encoded data removed]",
      "text/plain": [
       "<Figure size 432x288 with 1 Axes>"
      ]
     },
     "metadata": {
      "needs_background": "light"
     },
     "output_type": "display_data"
    }
   ],
   "source": [
    "plt.bar([x for x in range(len(tree_reg.feature_importances_))], tree_reg.feature_importances_)\n",
    "plt.show()\n",
    "## Top 5 features"
   ]
  }
 ],
 "metadata": {
  "kernelspec": {
   "display_name": "Python 3",
   "language": "python",
   "name": "python3"
  },
  "language_info": {
   "codemirror_mode": {
    "name": "ipython",
    "version": 3
   },
   "file_extension": ".py",
   "mimetype": "text/x-python",
   "name": "python",
   "nbconvert_exporter": "python",
   "pygments_lexer": "ipython3",
   "version": "3.8.3"
  }
 },
 "nbformat": 4,
 "nbformat_minor": 4
}
